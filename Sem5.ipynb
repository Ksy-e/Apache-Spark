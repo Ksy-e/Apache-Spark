{
  "nbformat": 4,
  "nbformat_minor": 0,
  "metadata": {
    "colab": {
      "provenance": []
    },
    "kernelspec": {
      "name": "python3",
      "display_name": "Python 3"
    },
    "language_info": {
      "name": "python"
    }
  },
  "cells": [
    {
      "cell_type": "markdown",
      "source": [
        "Условие: создайте csv файл с таким содержимым:\n",
        "\n",
        "title,author,genre,sales,year\n",
        "\n",
        "\"1984\", \"George Orwell\", \"Science Fiction\", 5000, 1949\n",
        "\n",
        "\"The Lord of the Rings\", \"J.R.R. Tolkien\", \"Fantasy\", 3000, 1954\n",
        "\n",
        "\"To Kill a Mockingbird\", \"Harper Lee\", \"Southern Gothic\", 4000, 1960\n",
        "\n",
        "\"The Catcher in the Rye\", \"J.D. Salinger\", \"Novel\", 2000, 1951\n",
        "\n",
        "\"The Great Gatsby\", \"F. Scott Fitzgerald\", \"Novel\", 4500, 1925\n",
        "\n",
        "Задание:\n",
        "\n",
        "— Используя Spark прочитайте данные из файла csv.\n",
        "— Фильтруйте данные, чтобы оставить только книги, продажи которых превышают 3000 экземпляров.\n",
        "— Сгруппируйте данные по жанру и вычислите общий объем продаж для каждого жанра.\n",
        "— Отсортируйте данные по общему объему продаж в порядке убывания.\n",
        "— Выведите результаты на экран."
      ],
      "metadata": {
        "id": "AVe73cc7SwxK"
      }
    },
    {
      "cell_type": "code",
      "execution_count": 1,
      "metadata": {
        "colab": {
          "base_uri": "https://localhost:8080/"
        },
        "id": "eysLEBRB_ZG5",
        "outputId": "1d20a7c0-4004-4db9-bc8c-5b3705960621"
      },
      "outputs": [
        {
          "output_type": "stream",
          "name": "stdout",
          "text": [
            "Collecting pyspark\n",
            "  Downloading pyspark-3.5.1.tar.gz (317.0 MB)\n",
            "\u001b[2K     \u001b[90m━━━━━━━━━━━━━━━━━━━━━━━━━━━━━━━━━━━━━━━━\u001b[0m \u001b[32m317.0/317.0 MB\u001b[0m \u001b[31m2.7 MB/s\u001b[0m eta \u001b[36m0:00:00\u001b[0m\n",
            "\u001b[?25h  Preparing metadata (setup.py) ... \u001b[?25l\u001b[?25hdone\n",
            "Requirement already satisfied: py4j==0.10.9.7 in /usr/local/lib/python3.10/dist-packages (from pyspark) (0.10.9.7)\n",
            "Building wheels for collected packages: pyspark\n",
            "  Building wheel for pyspark (setup.py) ... \u001b[?25l\u001b[?25hdone\n",
            "  Created wheel for pyspark: filename=pyspark-3.5.1-py2.py3-none-any.whl size=317488491 sha256=1f4fe34f541c7d414b46341629a943a36969daf298750c8ee014cd1ee5d75efb\n",
            "  Stored in directory: /root/.cache/pip/wheels/80/1d/60/2c256ed38dddce2fdd93be545214a63e02fbd8d74fb0b7f3a6\n",
            "Successfully built pyspark\n",
            "Installing collected packages: pyspark\n",
            "Successfully installed pyspark-3.5.1\n"
          ]
        }
      ],
      "source": [
        "!pip install pyspark"
      ]
    },
    {
      "cell_type": "code",
      "source": [
        "from pyspark.sql import SparkSession\n",
        "from pyspark.sql.window import Window\n",
        "import pyspark.sql.functions as fn\n",
        "from pyspark.sql.types import DoubleType\n",
        "\n",
        "spark = SparkSession.builder.appName(\"Sem5\").getOrCreate()\n",
        "\n",
        "data = [(\"1984\", \"George Orwell\", \"Science Fiction\", 5000, 1949),\n",
        "\n",
        "(\"The Lord of the Rings\", \"J.R.R. Tolkien\", \"Fantasy\", 3000, 1954),\n",
        "\n",
        "(\"To Kill a Mockingbird\", \"Harper Lee\", \"Southern Gothic\", 4000, 1960),\n",
        "\n",
        "(\"The Catcher in the Rye\", \"J.D. Salinger\", \"Novel\", 2000, 1951),\n",
        "\n",
        "(\"The Great Gatsby\", \"F. Scott Fitzgerald\", \"Novel\", 4500, 1925)]\n",
        "\n",
        "schema = [\"title\", \"author\", \"genre\", \"sales\", \"year\"]\n",
        "df = spark.createDataFrame(data, schema)\n",
        "df.write.csv(\"book1\")\n",
        "df.show()"
      ],
      "metadata": {
        "colab": {
          "base_uri": "https://localhost:8080/"
        },
        "id": "Qbv7hNhl_uCo",
        "outputId": "cf24782e-2233-4571-ea76-c912bf080d79"
      },
      "execution_count": 20,
      "outputs": [
        {
          "output_type": "stream",
          "name": "stdout",
          "text": [
            "+--------------------+-------------------+---------------+-----+----+\n",
            "|               title|             author|          genre|sales|year|\n",
            "+--------------------+-------------------+---------------+-----+----+\n",
            "|                1984|      George Orwell|Science Fiction| 5000|1949|\n",
            "|The Lord of the R...|     J.R.R. Tolkien|        Fantasy| 3000|1954|\n",
            "|To Kill a Mocking...|         Harper Lee|Southern Gothic| 4000|1960|\n",
            "|The Catcher in th...|      J.D. Salinger|          Novel| 2000|1951|\n",
            "|    The Great Gatsby|F. Scott Fitzgerald|          Novel| 4500|1925|\n",
            "+--------------------+-------------------+---------------+-----+----+\n",
            "\n"
          ]
        }
      ]
    },
    {
      "cell_type": "code",
      "source": [
        "\n",
        "df = spark.read.option(\"header\",True).csv(\"book1.csv\")\n",
        "print(\"Исходный датасет:\")\n",
        "df.show()\n",
        "\n",
        "filtered_df = df.filter(df.sales> 3000)\n",
        "print(\"Фильтрация по продажам (более 3000 экземпляров):\")\n",
        "filtered_df.show()\n",
        "\n",
        "\n",
        "window_spec = Window.partitionBy(\"genre\")\n",
        "sum_sales_by_genre = fn.sum(\"sales\").over(window_spec)\n",
        "sum_sales_by_genre_df = df.withColumn(\"sum_sales_by_genre\", sum_sales_by_genre)\n",
        "# Сортировка данных по общему объему продаж в порядке убывания и вывод результатов:\n",
        "print(\"Общие объемы продаж по жанрам в порядке убывания:\")\n",
        "sum_sales_by_genre_df.select([\"genre\", \"sum_sales_by_genre\"]).distinct() \\\n",
        "    .orderBy(sum_sales_by_genre_df.sum_sales_by_genre.desc()).show()"
      ],
      "metadata": {
        "colab": {
          "base_uri": "https://localhost:8080/"
        },
        "id": "o5ykI2QYVqtN",
        "outputId": "f3bd5eb1-5d31-4043-e9c5-ca9039472541"
      },
      "execution_count": 28,
      "outputs": [
        {
          "output_type": "stream",
          "name": "stdout",
          "text": [
            "Исходный датасет:\n",
            "+--------------------+--------------------+--------------------+-----+------+\n",
            "|               title|              author|               genre|sales|  year|\n",
            "+--------------------+--------------------+--------------------+-----+------+\n",
            "|           \"\"\"1984\"\"|   \"\"George Orwell\"\"| \"\"Science Fiction\"\"| 5000| 1949\"|\n",
            "|\"\"\"The Lord of th...|  \"\"J.R.R. Tolkien\"\"|         \"\"Fantasy\"\"| 3000| 1954\"|\n",
            "|\"\"\"To Kill a Mock...|      \"\"Harper Lee\"\"| \"\"Southern Gothic\"\"| 4000| 1960\"|\n",
            "|\"\"\"The Catcher in...|   \"\"J.D. Salinger\"\"|           \"\"Novel\"\"| 2000| 1951\"|\n",
            "|\"\"\"The Great Gats...| \"\"F. Scott Fitzg...|           \"\"Novel\"\"| 4500| 1925\"|\n",
            "+--------------------+--------------------+--------------------+-----+------+\n",
            "\n",
            "Фильтрация по продажам (более 3000 экземпляров):\n",
            "+--------------------+--------------------+--------------------+-----+------+\n",
            "|               title|              author|               genre|sales|  year|\n",
            "+--------------------+--------------------+--------------------+-----+------+\n",
            "|           \"\"\"1984\"\"|   \"\"George Orwell\"\"| \"\"Science Fiction\"\"| 5000| 1949\"|\n",
            "|\"\"\"To Kill a Mock...|      \"\"Harper Lee\"\"| \"\"Southern Gothic\"\"| 4000| 1960\"|\n",
            "|\"\"\"The Great Gats...| \"\"F. Scott Fitzg...|           \"\"Novel\"\"| 4500| 1925\"|\n",
            "+--------------------+--------------------+--------------------+-----+------+\n",
            "\n",
            "Общие объемы продаж по жанрам в порядке убывания:\n",
            "+--------------------+------------------+\n",
            "|               genre|sum_sales_by_genre|\n",
            "+--------------------+------------------+\n",
            "|           \"\"Novel\"\"|            6500.0|\n",
            "| \"\"Science Fiction\"\"|            5000.0|\n",
            "| \"\"Southern Gothic\"\"|            4000.0|\n",
            "|         \"\"Fantasy\"\"|            3000.0|\n",
            "+--------------------+------------------+\n",
            "\n"
          ]
        }
      ]
    }
  ]
}