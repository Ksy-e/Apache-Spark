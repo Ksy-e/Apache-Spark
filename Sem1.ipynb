{
  "nbformat": 4,
  "nbformat_minor": 0,
  "metadata": {
    "colab": {
      "provenance": []
    },
    "kernelspec": {
      "name": "python3",
      "display_name": "Python 3"
    },
    "language_info": {
      "name": "python"
    }
  },
  "cells": [
    {
      "cell_type": "code",
      "execution_count": 1,
      "metadata": {
        "colab": {
          "base_uri": "https://localhost:8080/"
        },
        "id": "WAigE6o-bO7Q",
        "outputId": "9be3b639-c104-4297-e69f-5d15850dc31e"
      },
      "outputs": [
        {
          "output_type": "stream",
          "name": "stdout",
          "text": [
            "Collecting pyspark\n",
            "  Downloading pyspark-3.5.1.tar.gz (317.0 MB)\n",
            "\u001b[2K     \u001b[90m━━━━━━━━━━━━━━━━━━━━━━━━━━━━━━━━━━━━━━━━\u001b[0m \u001b[32m317.0/317.0 MB\u001b[0m \u001b[31m3.9 MB/s\u001b[0m eta \u001b[36m0:00:00\u001b[0m\n",
            "\u001b[?25h  Preparing metadata (setup.py) ... \u001b[?25l\u001b[?25hdone\n",
            "Requirement already satisfied: py4j==0.10.9.7 in /usr/local/lib/python3.10/dist-packages (from pyspark) (0.10.9.7)\n",
            "Building wheels for collected packages: pyspark\n",
            "  Building wheel for pyspark (setup.py) ... \u001b[?25l\u001b[?25hdone\n",
            "  Created wheel for pyspark: filename=pyspark-3.5.1-py2.py3-none-any.whl size=317488491 sha256=76bbd4f8e00aac56ac3595ed1cc2411538c462e99df32ce7b1916db22b680c52\n",
            "  Stored in directory: /root/.cache/pip/wheels/80/1d/60/2c256ed38dddce2fdd93be545214a63e02fbd8d74fb0b7f3a6\n",
            "Successfully built pyspark\n",
            "Installing collected packages: pyspark\n",
            "Successfully installed pyspark-3.5.1\n"
          ]
        }
      ],
      "source": [
        "!pip install pyspark"
      ]
    },
    {
      "cell_type": "code",
      "source": [
        "import time\n",
        "import pyspark\n",
        "from pyspark import SparkContext\n",
        "from pyspark.sql import SparkSession"
      ],
      "metadata": {
        "id": "dkKlIBJSbRaR"
      },
      "execution_count": 2,
      "outputs": []
    },
    {
      "cell_type": "markdown",
      "source": [
        "Найти самую длинную последовательность упорядоченных чисел в RDD и вывести ее."
      ],
      "metadata": {
        "id": "nei35G1NboWr"
      }
    },
    {
      "cell_type": "code",
      "source": [
        "data = [(1, 2, 3, 4, 5), (6, 7, 8, 9), (7, 8, 9, 10, 11, 12, 13)]\n",
        "sc = SparkContext(\"local\", \"Long RDD\")\n",
        "rdd = sc.parallelize(data)\n",
        "long_sequence = rdd.max(key=lambda x: len(x))\n",
        "print(\"Самая длинная последовательность упорядоченных чисел в RDD:\", long_sequence)\n"
      ],
      "metadata": {
        "colab": {
          "base_uri": "https://localhost:8080/"
        },
        "id": "C0y1j77Obndz",
        "outputId": "8e678b6a-4bb7-40ac-94eb-8af43c8616d4"
      },
      "execution_count": 6,
      "outputs": [
        {
          "output_type": "stream",
          "name": "stdout",
          "text": [
            "Самая длинная последовательность упорядоченных чисел в RDD: (7, 8, 9, 10, 11, 12, 13)\n"
          ]
        }
      ]
    },
    {
      "cell_type": "code",
      "source": [
        "sc.stop()"
      ],
      "metadata": {
        "id": "oyKHH15kfp7_"
      },
      "execution_count": 5,
      "outputs": []
    }
  ]
}