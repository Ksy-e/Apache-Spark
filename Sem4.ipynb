{
  "nbformat": 4,
  "nbformat_minor": 0,
  "metadata": {
    "colab": {
      "provenance": []
    },
    "kernelspec": {
      "name": "python3",
      "display_name": "Python 3"
    },
    "language_info": {
      "name": "python"
    }
  },
  "cells": [
    {
      "cell_type": "markdown",
      "source": [
        "Используя источник rate, напишите код, который создаст дополнительный столбец, который будет выводить сумму только нечетных чисел"
      ],
      "metadata": {
        "id": "-1qPuBDbpKr8"
      }
    },
    {
      "cell_type": "code",
      "execution_count": 1,
      "metadata": {
        "colab": {
          "base_uri": "https://localhost:8080/"
        },
        "id": "2j4K8TALo-b7",
        "outputId": "a2ab1d75-d310-4b11-ec2c-c6ee7eb9c6bf"
      },
      "outputs": [
        {
          "output_type": "stream",
          "name": "stdout",
          "text": [
            "Collecting pyspark\n",
            "  Downloading pyspark-3.5.1.tar.gz (317.0 MB)\n",
            "\u001b[2K     \u001b[90m━━━━━━━━━━━━━━━━━━━━━━━━━━━━━━━━━━━━━━━━\u001b[0m \u001b[32m317.0/317.0 MB\u001b[0m \u001b[31m2.6 MB/s\u001b[0m eta \u001b[36m0:00:00\u001b[0m\n",
            "\u001b[?25h  Preparing metadata (setup.py) ... \u001b[?25l\u001b[?25hdone\n",
            "Requirement already satisfied: py4j==0.10.9.7 in /usr/local/lib/python3.10/dist-packages (from pyspark) (0.10.9.7)\n",
            "Building wheels for collected packages: pyspark\n",
            "  Building wheel for pyspark (setup.py) ... \u001b[?25l\u001b[?25hdone\n",
            "  Created wheel for pyspark: filename=pyspark-3.5.1-py2.py3-none-any.whl size=317488491 sha256=b4a54d9d458583385c17853021fa8208717d4a9413772d0fda597a4f335932ef\n",
            "  Stored in directory: /root/.cache/pip/wheels/80/1d/60/2c256ed38dddce2fdd93be545214a63e02fbd8d74fb0b7f3a6\n",
            "Successfully built pyspark\n",
            "Installing collected packages: pyspark\n",
            "Successfully installed pyspark-3.5.1\n"
          ]
        }
      ],
      "source": [
        "!pip install pyspark"
      ]
    },
    {
      "cell_type": "code",
      "source": [
        "import pyspark\n",
        "from pyspark import SparkContext\n",
        "from pyspark.sql import SparkSession\n",
        "from pyspark.sql.window import Window\n",
        "from pyspark.sql.functions import col, sum\n",
        "from pprint import pprint\n",
        ""
      ],
      "metadata": {
        "id": "14BjVWrMpNAv"
      },
      "execution_count": 2,
      "outputs": []
    },
    {
      "cell_type": "code",
      "source": [
        "import warnings\n",
        "warnings.simplefilter(action='ignore', category=FutureWarning)"
      ],
      "metadata": {
        "id": "60bHIHC4pPK5"
      },
      "execution_count": 3,
      "outputs": []
    },
    {
      "cell_type": "code",
      "source": [
        "spark = SparkSession.builder.appName(\"Sem4\").getOrCreate()\n",
        "\n",
        "streaming_df = spark \\\n",
        ".readStream \\\n",
        ".format(\"rate\") \\\n",
        ".option(\"rowsPerSecond\", 1) \\\n",
        ".load()\n",
        "\n",
        "filtered_df = streaming_df.filter(col(\"value\") % 2 == 1)\n",
        "\n",
        "sum_odds = filtered_df.agg(sum(\"value\"))\n",
        "\n",
        "query = sum_odds \\\n",
        ".writeStream \\\n",
        ".outputMode(\"complete\") \\\n",
        ".format(\"console\") \\\n",
        ".start()\n",
        "query.awaitTermination(10)\n",
        "query.stop()\n"
      ],
      "metadata": {
        "id": "AFLcfcyrpTUH"
      },
      "execution_count": 4,
      "outputs": []
    }
  ]
}